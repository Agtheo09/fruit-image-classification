{
 "cells": [
  {
   "cell_type": "code",
   "execution_count": 1,
   "metadata": {},
   "outputs": [],
   "source": [
    "\n",
    "import torch\n",
    "from torch.utils.data import Dataset\n",
    "import torchvision\n",
    "from torchvision import datasets\n",
    "from torchvision.transforms import ToTensor, transforms\n",
    "import matplotlib.pyplot as plt\n",
    "import torch.nn as nn\n",
    "import torch.optim as optim\n",
    "from torch.utils.data import DataLoader\n",
    "\n",
    "import pandas as pd\n",
    "import os\n",
    "from PIL import Image\n",
    "import matplotlib.pyplot as plt\n",
    "import numpy as np\n"
   ]
  },
  {
   "cell_type": "code",
   "execution_count": 2,
   "metadata": {},
   "outputs": [],
   "source": [
    "labels_map = {\n",
    "    0: \"apple\",\n",
    "    1: \"banana\",\n",
    "    2: \"orange\",\n",
    "}"
   ]
  },
  {
   "cell_type": "code",
   "execution_count": 3,
   "metadata": {},
   "outputs": [],
   "source": [
    "transform = transforms.Compose([\n",
    "    transforms.Resize((32, 32)),   # Resize the images to (32, 32)\n",
    "    transforms.ToTensor(),           # Convert images to PyTorch tensors\n",
    "    transforms.Normalize((0.5, 0.5, 0.5), (0.5, 0.5, 0.5))  # Normalize the images\n",
    "])"
   ]
  },
  {
   "cell_type": "code",
   "execution_count": 4,
   "metadata": {},
   "outputs": [],
   "source": [
    "from src.components.CustomImageDataset import CustomImageDataset\n",
    "\n",
    "train_dataset = CustomImageDataset(\"./labels/train_labels.csv\", \"./src/ref_imgs/train_imgs/\", transform=transform)\n",
    "test_dataset = CustomImageDataset(\"./labels/test_labels.csv\", \"./src/ref_imgs/test_imgs/\", transform=transform)"
   ]
  },
  {
   "cell_type": "code",
   "execution_count": 5,
   "metadata": {},
   "outputs": [],
   "source": [
    "batch_size = 4\n",
    "train_loader = DataLoader(train_dataset, batch_size=batch_size, shuffle=True)\n",
    "test_loader = DataLoader(test_dataset, batch_size=batch_size, shuffle=True)"
   ]
  },
  {
   "cell_type": "code",
   "execution_count": 6,
   "metadata": {},
   "outputs": [],
   "source": [
    "transformToPIL = transforms.ToPILImage()"
   ]
  },
  {
   "cell_type": "code",
   "execution_count": 7,
   "metadata": {},
   "outputs": [
    {
     "name": "stdout",
     "output_type": "stream",
     "text": [
      "Feature batch shape: torch.Size([4, 3, 32, 32])\n",
      "Labels batch shape: torch.Size([4])\n",
      "Shape: torch.Size([3, 32, 32])\n",
      "Label: 0\n"
     ]
    }
   ],
   "source": [
    "train_features, train_labels = next(iter(train_loader))\n",
    "print(f\"Feature batch shape: {train_features.size()}\")\n",
    "print(f\"Labels batch shape: {train_labels.size()}\")\n",
    "img = train_features[0].squeeze()\n",
    "label = train_labels[0]\n",
    "print(f\"Shape: {img.shape}\")\n",
    "transformToPIL(img).show()\n",
    "\n",
    "print(f\"Label: {label}\")"
   ]
  },
  {
   "cell_type": "code",
   "execution_count": 8,
   "metadata": {},
   "outputs": [],
   "source": [
    "from src.components.Net import Net\n",
    "\n",
    "net = Net()"
   ]
  },
  {
   "cell_type": "code",
   "execution_count": 9,
   "metadata": {},
   "outputs": [],
   "source": [
    "criterion = nn.CrossEntropyLoss()\n",
    "optimizer = optim.SGD(net.parameters(), lr=0.001, momentum=0.9)"
   ]
  },
  {
   "cell_type": "code",
   "execution_count": 10,
   "metadata": {},
   "outputs": [
    {
     "name": "stdout",
     "output_type": "stream",
     "text": [
      "[1,    20] loss: 1.107\n",
      "[1,    40] loss: 1.100\n",
      "[1,    60] loss: 1.097\n",
      "[1,    80] loss: 1.097\n",
      "[1,   100] loss: 1.097\n",
      "[1,   120] loss: 1.096\n",
      "[1,   140] loss: 1.100\n",
      "[1,   160] loss: 1.093\n",
      "[2,    20] loss: 1.085\n",
      "[2,    40] loss: 1.097\n",
      "[2,    60] loss: 1.097\n",
      "[2,    80] loss: 1.097\n",
      "[2,   100] loss: 1.088\n",
      "[2,   120] loss: 1.088\n",
      "[2,   140] loss: 1.087\n",
      "[2,   160] loss: 1.085\n",
      "[3,    20] loss: 1.083\n",
      "[3,    40] loss: 1.079\n",
      "[3,    60] loss: 1.062\n",
      "[3,    80] loss: 1.067\n",
      "[3,   100] loss: 1.046\n",
      "[3,   120] loss: 1.071\n",
      "[3,   140] loss: 1.050\n",
      "[3,   160] loss: 1.037\n",
      "[4,    20] loss: 1.019\n",
      "[4,    40] loss: 0.987\n",
      "[4,    60] loss: 0.972\n",
      "[4,    80] loss: 0.976\n",
      "[4,   100] loss: 0.935\n",
      "[4,   120] loss: 0.976\n",
      "[4,   140] loss: 0.910\n",
      "[4,   160] loss: 0.960\n",
      "[5,    20] loss: 0.899\n",
      "[5,    40] loss: 0.796\n",
      "[5,    60] loss: 0.830\n",
      "[5,    80] loss: 0.746\n",
      "[5,   100] loss: 0.845\n",
      "[5,   120] loss: 0.770\n",
      "[5,   140] loss: 0.809\n",
      "[5,   160] loss: 0.688\n",
      "[6,    20] loss: 0.624\n",
      "[6,    40] loss: 0.838\n",
      "[6,    60] loss: 0.639\n",
      "[6,    80] loss: 0.657\n",
      "[6,   100] loss: 0.622\n",
      "[6,   120] loss: 0.582\n",
      "[6,   140] loss: 0.664\n",
      "[6,   160] loss: 0.653\n",
      "[7,    20] loss: 0.621\n",
      "[7,    40] loss: 0.602\n",
      "[7,    60] loss: 0.720\n",
      "[7,    80] loss: 0.656\n",
      "[7,   100] loss: 0.528\n",
      "[7,   120] loss: 0.461\n",
      "[7,   140] loss: 0.591\n",
      "[7,   160] loss: 0.474\n",
      "[8,    20] loss: 0.358\n",
      "[8,    40] loss: 0.604\n",
      "[8,    60] loss: 0.580\n",
      "[8,    80] loss: 0.542\n",
      "[8,   100] loss: 0.627\n",
      "[8,   120] loss: 0.523\n",
      "[8,   140] loss: 0.387\n",
      "[8,   160] loss: 0.648\n",
      "[9,    20] loss: 0.491\n",
      "[9,    40] loss: 0.530\n",
      "[9,    60] loss: 0.505\n",
      "[9,    80] loss: 0.539\n",
      "[9,   100] loss: 0.434\n",
      "[9,   120] loss: 0.404\n",
      "[9,   140] loss: 0.557\n",
      "[9,   160] loss: 0.721\n",
      "[10,    20] loss: 0.490\n",
      "[10,    40] loss: 0.466\n",
      "[10,    60] loss: 0.482\n",
      "[10,    80] loss: 0.489\n",
      "[10,   100] loss: 0.391\n",
      "[10,   120] loss: 0.447\n",
      "[10,   140] loss: 0.409\n",
      "[10,   160] loss: 0.522\n",
      "[11,    20] loss: 0.486\n",
      "[11,    40] loss: 0.436\n",
      "[11,    60] loss: 0.572\n",
      "[11,    80] loss: 0.586\n",
      "[11,   100] loss: 0.386\n",
      "[11,   120] loss: 0.359\n",
      "[11,   140] loss: 0.468\n",
      "[11,   160] loss: 0.564\n",
      "[12,    20] loss: 0.420\n",
      "[12,    40] loss: 0.357\n",
      "[12,    60] loss: 0.302\n",
      "[12,    80] loss: 0.528\n",
      "[12,   100] loss: 0.422\n",
      "[12,   120] loss: 0.418\n",
      "[12,   140] loss: 0.464\n",
      "[12,   160] loss: 0.413\n",
      "Finished Training\n"
     ]
    }
   ],
   "source": [
    "lossArr = []\n",
    "\n",
    "for epoch in range(12):  # loop over the dataset multiple times\n",
    "\n",
    "    running_loss = 0.0\n",
    "    for i, data in enumerate(train_loader, 0):\n",
    "        # get the inputs; data is a list of [inputs, labels]\n",
    "        inputs, labels = data\n",
    "\n",
    "        # zero the parameter gradients\n",
    "        optimizer.zero_grad()\n",
    "\n",
    "        # forward + backward + optimize\n",
    "        # print(inputs.shape)\n",
    "        outputs = net(inputs)\n",
    "        loss = criterion(outputs, labels)\n",
    "        loss.backward()\n",
    "        optimizer.step()\n",
    "\n",
    "        # print statistics\n",
    "        # print(loss.item())\n",
    "        # lossArr.append(loss.item())\n",
    "        running_loss += loss.item()\n",
    "        if i % 20 == 19:    # print every 2000 mini-batches\n",
    "            print(f'[{epoch + 1}, {i + 1:5d}] loss: {running_loss / 20:.3f}')\n",
    "            lossArr.append(running_loss / 20)\n",
    "            running_loss = 0.0\n",
    "\n",
    "print('Finished Training')"
   ]
  },
  {
   "cell_type": "code",
   "execution_count": 11,
   "metadata": {},
   "outputs": [
    {
     "data": {
      "text/plain": [
       "[<matplotlib.lines.Line2D at 0x199dd1c1ae0>]"
      ]
     },
     "execution_count": 11,
     "metadata": {},
     "output_type": "execute_result"
    },
    {
     "data": {
      "image/png": "[encoded data removed]",
      "text/plain": [
       "<Figure size 640x480 with 1 Axes>"
      ]
     },
     "metadata": {},
     "output_type": "display_data"
    }
   ],
   "source": [
    "plt.plot(lossArr)"
   ]
  },
  {
   "cell_type": "code",
   "execution_count": 12,
   "metadata": {},
   "outputs": [],
   "source": [
    "PATH = './fruit_identification_model.pth'\n",
    "torch.save(net.state_dict(), PATH)"
   ]
  },
  {
   "cell_type": "code",
   "execution_count": 13,
   "metadata": {},
   "outputs": [],
   "source": [
    "def imshow(img):\n",
    "    img = img / 2 + 0.5     # unnormalize\n",
    "    # transformToPIL(img).show()\n",
    "    plt.imshow(np.transpose(np.array(img), (1, 2, 0)))\n",
    "    plt.show()"
   ]
  },
  {
   "cell_type": "code",
   "execution_count": 14,
   "metadata": {},
   "outputs": [
    {
     "data": {
      "image/png": "[encoded data removed]",
      "text/plain": [
       "<Figure size 640x480 with 1 Axes>"
      ]
     },
     "metadata": {},
     "output_type": "display_data"
    },
    {
     "name": "stdout",
     "output_type": "stream",
     "text": [
      "GroundTruth:  banana orange banana orange\n"
     ]
    }
   ],
   "source": [
    "dataiter = iter(test_loader)\n",
    "\n",
    "images, labels = next(dataiter)\n",
    "\n",
    "# print(test_loader)\n",
    "\n",
    "# print images\n",
    "imshow(torchvision.utils.make_grid(images))\n",
    "# print(list(labels))\n",
    "classes = ('apple', 'banana', 'orange')\n",
    "print('GroundTruth: ', ' '.join(f'{classes[labels[j]]:5s}' for j in range(4)))\n",
    "# print('GroundTruth: ', ' '.join(f'{labels_map[labels[j]]:5s}' for j in range(4)))"
   ]
  },
  {
   "cell_type": "code",
   "execution_count": 15,
   "metadata": {},
   "outputs": [],
   "source": [
    "# print(cuda_is_available())"
   ]
  },
  {
   "cell_type": "code",
   "execution_count": 16,
   "metadata": {},
   "outputs": [
    {
     "name": "stdout",
     "output_type": "stream",
     "text": [
      "Accuracy of the network on the 140 test images: 83 %\n"
     ]
    }
   ],
   "source": [
    "correct = 0\n",
    "total = 0\n",
    "# since we're not training, we don't need to calculate the gradients for our outputs\n",
    "with torch.no_grad():\n",
    "    for data in test_loader:\n",
    "        images, labels = data\n",
    "        # calculate outputs by running images through the network\n",
    "        outputs = net(images)\n",
    "        # the class with the highest energy is what we choose as prediction\n",
    "        _, predicted = torch.max(outputs.data, 1)\n",
    "        total += labels.size(0)\n",
    "        correct += (predicted == labels).sum().item()\n",
    "\n",
    "print(f'Accuracy of the network on the {len(images)*len(test_loader)} test images: {100 * correct // total} %')"
   ]
  },
  {
   "cell_type": "code",
   "execution_count": null,
   "metadata": {},
   "outputs": [],
   "source": []
  }
 ],
 "metadata": {
  "kernelspec": {
   "display_name": "imageClassification",
   "language": "python",
   "name": "python3"
  },
  "language_info": {
   "codemirror_mode": {
    "name": "ipython",
    "version": 3
   },
   "file_extension": ".py",
   "mimetype": "text/x-python",
   "name": "python",
   "nbconvert_exporter": "python",
   "pygments_lexer": "ipython3",
   "version": "3.10.12"
  },
  "orig_nbformat": 4
 },
 "nbformat": 4,
 "nbformat_minor": 2
}
